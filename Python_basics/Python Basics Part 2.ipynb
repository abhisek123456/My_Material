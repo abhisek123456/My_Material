{
 "cells": [
  {
   "cell_type": "code",
   "execution_count": 6,
   "id": "8343570a",
   "metadata": {},
   "outputs": [],
   "source": [
    "## complex number x+yj \n",
    "## j is the imaginary part\n",
    "a= 1+2j"
   ]
  },
  {
   "cell_type": "code",
   "execution_count": 7,
   "id": "26a04739",
   "metadata": {},
   "outputs": [
    {
     "data": {
      "text/plain": [
       "(1+2j)"
      ]
     },
     "execution_count": 7,
     "metadata": {},
     "output_type": "execute_result"
    }
   ],
   "source": [
    "a"
   ]
  },
  {
   "cell_type": "code",
   "execution_count": null,
   "id": "5d6adfaf",
   "metadata": {},
   "outputs": [],
   "source": []
  },
  {
   "cell_type": "code",
   "execution_count": 9,
   "id": "3e7d9146",
   "metadata": {},
   "outputs": [
    {
     "name": "stdout",
     "output_type": "stream",
     "text": [
      "1.0 2.0\n"
     ]
    }
   ],
   "source": [
    "print(a.real,a.imag)"
   ]
  },
  {
   "cell_type": "code",
   "execution_count": 11,
   "id": "2bccb83c",
   "metadata": {},
   "outputs": [
    {
     "data": {
      "text/plain": [
       "[3, 4, 5, 6, 7, 'Abhisek']"
      ]
     },
     "execution_count": 11,
     "metadata": {},
     "output_type": "execute_result"
    }
   ],
   "source": [
    "lst=[3,4,5,6,7,\"Abhisek\"]\n",
    "lst"
   ]
  },
  {
   "cell_type": "code",
   "execution_count": 13,
   "id": "f72b2d8a",
   "metadata": {},
   "outputs": [
    {
     "data": {
      "text/plain": [
       "['chutiya', 3, 4, 56, 8]"
      ]
     },
     "execution_count": 13,
     "metadata": {},
     "output_type": "execute_result"
    }
   ],
   "source": [
    "b=[\"chutiya\",3,4,56,8]\n",
    "b"
   ]
  },
  {
   "cell_type": "code",
   "execution_count": 14,
   "id": "e9659770",
   "metadata": {},
   "outputs": [
    {
     "data": {
      "text/plain": [
       "[3, 4, 5, 6, 7, 'Abhisek', 'chutiya', 3, 4, 56, 8]"
      ]
     },
     "execution_count": 14,
     "metadata": {},
     "output_type": "execute_result"
    }
   ],
   "source": [
    "lst+b"
   ]
  },
  {
   "cell_type": "code",
   "execution_count": 15,
   "id": "2c231a3c",
   "metadata": {},
   "outputs": [],
   "source": [
    "lst.append(\"datta\")"
   ]
  },
  {
   "cell_type": "code",
   "execution_count": 16,
   "id": "be2765a8",
   "metadata": {},
   "outputs": [
    {
     "data": {
      "text/plain": [
       "[3, 4, 5, 6, 7, 'Abhisek', 'datta']"
      ]
     },
     "execution_count": 16,
     "metadata": {},
     "output_type": "execute_result"
    }
   ],
   "source": [
    "lst"
   ]
  },
  {
   "cell_type": "code",
   "execution_count": 17,
   "id": "f124dc91",
   "metadata": {},
   "outputs": [
    {
     "data": {
      "text/plain": [
       "['chutiya', 3, 4, 56, 8, ['datta', 1, 3, 4, 5]]"
      ]
     },
     "execution_count": 17,
     "metadata": {},
     "output_type": "execute_result"
    }
   ],
   "source": [
    "b.append([\"datta\",1,3,4,5])\n",
    "b"
   ]
  },
  {
   "cell_type": "code",
   "execution_count": 18,
   "id": "7a89c322",
   "metadata": {},
   "outputs": [],
   "source": [
    "b.extend([\"datta\",1,3,4,5])"
   ]
  },
  {
   "cell_type": "code",
   "execution_count": 19,
   "id": "7212720a",
   "metadata": {},
   "outputs": [
    {
     "data": {
      "text/plain": [
       "['chutiya', 3, 4, 56, 8, ['datta', 1, 3, 4, 5], 'datta', 1, 3, 4, 5]"
      ]
     },
     "execution_count": 19,
     "metadata": {},
     "output_type": "execute_result"
    }
   ],
   "source": [
    "b"
   ]
  },
  {
   "cell_type": "code",
   "execution_count": 20,
   "id": "16db7ade",
   "metadata": {},
   "outputs": [
    {
     "name": "stdout",
     "output_type": "stream",
     "text": [
      "chutiya\n",
      "3\n",
      "4\n",
      "56\n",
      "8\n",
      "['datta', 1, 3, 4, 5]\n",
      "datta\n",
      "1\n",
      "3\n",
      "4\n",
      "5\n"
     ]
    }
   ],
   "source": [
    "# Loops\n",
    "# for loops\n",
    "for x in b:\n",
    "    print(x)"
   ]
  },
  {
   "cell_type": "code",
   "execution_count": 21,
   "id": "85bd94ca",
   "metadata": {},
   "outputs": [
    {
     "data": {
      "text/plain": [
       "1"
      ]
     },
     "execution_count": 21,
     "metadata": {},
     "output_type": "execute_result"
    }
   ],
   "source": [
    "str1=[\"Abhisek\"]\n",
    "len(str1)"
   ]
  },
  {
   "cell_type": "code",
   "execution_count": 22,
   "id": "f98da9cb",
   "metadata": {},
   "outputs": [
    {
     "data": {
      "text/plain": [
       "7"
      ]
     },
     "execution_count": 22,
     "metadata": {},
     "output_type": "execute_result"
    }
   ],
   "source": [
    "str2=\"Abhisek\"\n",
    "len(str2)"
   ]
  },
  {
   "cell_type": "code",
   "execution_count": 23,
   "id": "02524c3b",
   "metadata": {},
   "outputs": [
    {
     "name": "stdout",
     "output_type": "stream",
     "text": [
      "A\n",
      "b\n",
      "h\n",
      "i\n",
      "s\n",
      "e\n",
      "k\n"
     ]
    }
   ],
   "source": [
    "for x in str2:\n",
    "    print(x)"
   ]
  },
  {
   "cell_type": "code",
   "execution_count": 27,
   "id": "d2ff591b",
   "metadata": {},
   "outputs": [
    {
     "name": "stdout",
     "output_type": "stream",
     "text": [
      "The sum is  85\n"
     ]
    }
   ],
   "source": [
    "lst1=[1,2,3,3,4,4,5,6,7,8,35,7]\n",
    "a=0\n",
    "for x in lst1:\n",
    "   # print(x)\n",
    "    a=x+a\n",
    "print(\"The sum is \",a)"
   ]
  },
  {
   "cell_type": "code",
   "execution_count": 28,
   "id": "15af0268",
   "metadata": {},
   "outputs": [],
   "source": [
    "lst2=[1,3,4,6,7,8,9,2,3,4,5]\n"
   ]
  },
  {
   "cell_type": "code",
   "execution_count": 31,
   "id": "8b00c570",
   "metadata": {},
   "outputs": [
    {
     "name": "stdout",
     "output_type": "stream",
     "text": [
      "The odd sum is 28 and even sum is 24 \n"
     ]
    }
   ],
   "source": [
    "oddsum=0\n",
    "evensum=0\n",
    "for x in lst2:\n",
    "    if x%2==0:\n",
    "        evensum=x+evensum\n",
    "    else:\n",
    "        oddsum=x+oddsum\n",
    "print(\"The odd sum is {} and even sum is {} \".format(oddsum,evensum))"
   ]
  },
  {
   "cell_type": "code",
   "execution_count": 32,
   "id": "0aeec2f4",
   "metadata": {},
   "outputs": [],
   "source": [
    "lst3=[1,2,3,4,5,6,78,89]"
   ]
  },
  {
   "cell_type": "code",
   "execution_count": 36,
   "id": "eb8e882e",
   "metadata": {},
   "outputs": [
    {
     "data": {
      "text/plain": [
       "1"
      ]
     },
     "execution_count": 36,
     "metadata": {},
     "output_type": "execute_result"
    }
   ],
   "source": [
    "lst3.index(2)"
   ]
  },
  {
   "cell_type": "code",
   "execution_count": 38,
   "id": "3d77bb41",
   "metadata": {},
   "outputs": [
    {
     "name": "stdout",
     "output_type": "stream",
     "text": [
      "15\n"
     ]
    }
   ],
   "source": [
    "a=0\n",
    "for i in lst3:\n",
    "    if lst3.index(i)<=4:\n",
    "        a=a+i\n",
    "print(a)"
   ]
  },
  {
   "cell_type": "code",
   "execution_count": 46,
   "id": "6fe123e1",
   "metadata": {},
   "outputs": [],
   "source": [
    "lst4=[1,2,3,4,5,6,7]"
   ]
  },
  {
   "cell_type": "code",
   "execution_count": 48,
   "id": "d59c242d",
   "metadata": {},
   "outputs": [
    {
     "name": "stdout",
     "output_type": "stream",
     "text": [
      "The odd sum is 16 and even sum is 12\n"
     ]
    }
   ],
   "source": [
    "even_sum=0\n",
    "odd_sum=0\n",
    "for i in lst4:\n",
    "    if i%2==0:\n",
    "        even_sum=even_sum+i\n",
    "        if even_sum>=20:\n",
    "            break\n",
    "    else:\n",
    "        odd_sum=odd_sum+i\n",
    "        if odd_sum>=20:\n",
    "            break\n",
    "else:\n",
    "    print(\"The odd sum is {} and even sum is {}\".format(odd_sum,even_sum))\n"
   ]
  },
  {
   "cell_type": "code",
   "execution_count": 2,
   "id": "dff5361d",
   "metadata": {},
   "outputs": [
    {
     "name": "stdout",
     "output_type": "stream",
     "text": [
      "the odd sum is 25 and the even sum is 30\n"
     ]
    }
   ],
   "source": [
    "# while loop\n",
    "# even_sum and odd sum\n",
    "even_sum=0\n",
    "odd_sum=0\n",
    "i=1\n",
    "while i<=10:\n",
    "    if i%2==0:\n",
    "        even_sum=even_sum+i\n",
    "    else:\n",
    "        odd_sum=odd_sum+i\n",
    "    i=i+1\n",
    "print(\"the odd sum is {} and the even sum is {}\".format(odd_sum,even_sum))"
   ]
  },
  {
   "cell_type": "code",
   "execution_count": 3,
   "id": "5a3767de",
   "metadata": {},
   "outputs": [
    {
     "data": {
      "text/plain": [
       "[0, 1, 2, 3, 4, 5, 6, 7, 8, 9, 10, 11, 12, 13, 14, 15, 16, 17, 18, 19]"
      ]
     },
     "execution_count": 3,
     "metadata": {},
     "output_type": "execute_result"
    }
   ],
   "source": [
    "## range \n",
    "list(range(20))"
   ]
  },
  {
   "cell_type": "code",
   "execution_count": 12,
   "id": "d828cb65",
   "metadata": {},
   "outputs": [
    {
     "data": {
      "text/plain": [
       "[20, 22, 24, 26, 28, 30, 32, 34, 36, 38, 40, 42, 44, 46, 48]"
      ]
     },
     "execution_count": 12,
     "metadata": {},
     "output_type": "execute_result"
    }
   ],
   "source": [
    "list(range(20,50,2))"
   ]
  },
  {
   "cell_type": "code",
   "execution_count": 16,
   "id": "77da4679",
   "metadata": {},
   "outputs": [
    {
     "data": {
      "text/plain": [
       "2500"
      ]
     },
     "execution_count": 16,
     "metadata": {},
     "output_type": "execute_result"
    }
   ],
   "source": [
    "sum(list(range(1,100,2)))# sum of first 100 odd number  "
   ]
  }
 ],
 "metadata": {
  "kernelspec": {
   "display_name": "Python 3",
   "language": "python",
   "name": "python3"
  },
  "language_info": {
   "codemirror_mode": {
    "name": "ipython",
    "version": 3
   },
   "file_extension": ".py",
   "mimetype": "text/x-python",
   "name": "python",
   "nbconvert_exporter": "python",
   "pygments_lexer": "ipython3",
   "version": "3.8.8"
  }
 },
 "nbformat": 4,
 "nbformat_minor": 5
}
