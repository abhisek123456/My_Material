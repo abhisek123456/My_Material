{
 "cells": [
  {
   "cell_type": "code",
   "execution_count": 10,
   "id": "ac936887",
   "metadata": {},
   "outputs": [
    {
     "data": {
      "text/plain": [
       "[1, 4, 9, 16]"
      ]
     },
     "execution_count": 10,
     "metadata": {},
     "output_type": "execute_result"
    }
   ],
   "source": [
    "# list comprehension \n",
    "lst=[1,2,3,4]\n",
    "[x**2 for x in lst]"
   ]
  },
  {
   "cell_type": "code",
   "execution_count": 26,
   "id": "d823f343",
   "metadata": {},
   "outputs": [],
   "source": [
    "## sum of even number \n",
    "lst1=[2,3,4,5,1,3,4,6,8,4,2]"
   ]
  },
  {
   "cell_type": "code",
   "execution_count": 30,
   "id": "ca6d13af",
   "metadata": {},
   "outputs": [
    {
     "data": {
      "text/plain": [
       "30"
      ]
     },
     "execution_count": 30,
     "metadata": {},
     "output_type": "execute_result"
    }
   ],
   "source": [
    "even=[x for x in lst1\n",
    "if x%2==0]\n",
    "sum(even)"
   ]
  },
  {
   "cell_type": "code",
   "execution_count": 32,
   "id": "204443ba",
   "metadata": {},
   "outputs": [],
   "source": [
    "## Tuples\n",
    "t=(1,2,3,4)"
   ]
  },
  {
   "cell_type": "code",
   "execution_count": 33,
   "id": "b15c95a6",
   "metadata": {},
   "outputs": [
    {
     "data": {
      "text/plain": [
       "tuple"
      ]
     },
     "execution_count": 33,
     "metadata": {},
     "output_type": "execute_result"
    }
   ],
   "source": [
    "type(t)"
   ]
  },
  {
   "cell_type": "code",
   "execution_count": 37,
   "id": "d18306ce",
   "metadata": {},
   "outputs": [],
   "source": [
    "#convert list to tuples\n",
    "lst=[1,2,3,4,3]"
   ]
  },
  {
   "cell_type": "code",
   "execution_count": 40,
   "id": "89ccd44b",
   "metadata": {},
   "outputs": [],
   "source": [
    "lst=tuple(lst)"
   ]
  },
  {
   "cell_type": "code",
   "execution_count": 44,
   "id": "9e3238ae",
   "metadata": {},
   "outputs": [
    {
     "data": {
      "text/plain": [
       "(3, 4)"
      ]
     },
     "execution_count": 44,
     "metadata": {},
     "output_type": "execute_result"
    }
   ],
   "source": [
    "lst[2:4]"
   ]
  },
  {
   "cell_type": "code",
   "execution_count": 49,
   "id": "1f99e7a2",
   "metadata": {},
   "outputs": [],
   "source": [
    "tup=(1,2,3,4,4,6,7,8,9,6,4,3,2,4)"
   ]
  },
  {
   "cell_type": "code",
   "execution_count": 46,
   "id": "5557ce0a",
   "metadata": {},
   "outputs": [
    {
     "data": {
      "text/plain": [
       "(4, 2, 3, 4, 6, 9, 8, 7, 6, 4, 4, 3, 2, 1)"
      ]
     },
     "execution_count": 46,
     "metadata": {},
     "output_type": "execute_result"
    }
   ],
   "source": [
    "# Reverse\n",
    "tup[::-1]"
   ]
  },
  {
   "cell_type": "code",
   "execution_count": 56,
   "id": "f9790dda",
   "metadata": {},
   "outputs": [],
   "source": [
    "sett={1,2,3,4}"
   ]
  },
  {
   "cell_type": "code",
   "execution_count": 57,
   "id": "2b0e7938",
   "metadata": {},
   "outputs": [
    {
     "data": {
      "text/plain": [
       "{1, 2, 3, 4}"
      ]
     },
     "execution_count": 57,
     "metadata": {},
     "output_type": "execute_result"
    }
   ],
   "source": [
    "sett"
   ]
  },
  {
   "cell_type": "code",
   "execution_count": 2,
   "id": "86aa837b",
   "metadata": {},
   "outputs": [
    {
     "data": {
      "text/plain": [
       "{1, 2, 3, 4, 5, 6, 7, 8}"
      ]
     },
     "execution_count": 2,
     "metadata": {},
     "output_type": "execute_result"
    }
   ],
   "source": [
    "{1,2,3,3,3,4,5,3,7,7,8,6,} # Set of unique  elements "
   ]
  },
  {
   "cell_type": "code",
   "execution_count": 3,
   "id": "bfcb3d0a",
   "metadata": {},
   "outputs": [],
   "source": [
    "set1={1,2,3,4,5,6,7,8,9}\n",
    "set2={2,4,6,8,0}"
   ]
  },
  {
   "cell_type": "code",
   "execution_count": 4,
   "id": "107ba97e",
   "metadata": {},
   "outputs": [],
   "source": [
    "set2.add(44)"
   ]
  },
  {
   "cell_type": "code",
   "execution_count": 5,
   "id": "f745fb43",
   "metadata": {},
   "outputs": [
    {
     "data": {
      "text/plain": [
       "{0, 2, 4, 6, 8, 44}"
      ]
     },
     "execution_count": 5,
     "metadata": {},
     "output_type": "execute_result"
    }
   ],
   "source": [
    "set2"
   ]
  },
  {
   "cell_type": "code",
   "execution_count": 6,
   "id": "b35f1d80",
   "metadata": {},
   "outputs": [
    {
     "data": {
      "text/plain": [
       "{0, 1, 2, 3, 4, 5, 6, 7, 8, 9, 44}"
      ]
     },
     "execution_count": 6,
     "metadata": {},
     "output_type": "execute_result"
    }
   ],
   "source": [
    "set1.union(set2)"
   ]
  },
  {
   "cell_type": "code",
   "execution_count": 7,
   "id": "1c25afc7",
   "metadata": {},
   "outputs": [
    {
     "data": {
      "text/plain": [
       "{2, 4, 6, 8}"
      ]
     },
     "execution_count": 7,
     "metadata": {},
     "output_type": "execute_result"
    }
   ],
   "source": [
    "set1.intersection(set2)"
   ]
  },
  {
   "cell_type": "code",
   "execution_count": 8,
   "id": "8d38017b",
   "metadata": {},
   "outputs": [
    {
     "data": {
      "text/plain": [
       "{1, 3, 5, 7, 9}"
      ]
     },
     "execution_count": 8,
     "metadata": {},
     "output_type": "execute_result"
    }
   ],
   "source": [
    "set1.difference(set2)"
   ]
  },
  {
   "cell_type": "code",
   "execution_count": 9,
   "id": "6edd81cd",
   "metadata": {},
   "outputs": [
    {
     "data": {
      "text/plain": [
       "False"
      ]
     },
     "execution_count": 9,
     "metadata": {},
     "output_type": "execute_result"
    }
   ],
   "source": [
    "set1.issubset(set2)"
   ]
  },
  {
   "cell_type": "code",
   "execution_count": 11,
   "id": "20455a34",
   "metadata": {},
   "outputs": [],
   "source": [
    "# dict\n",
    "x={1:\"Abhisek\",2:\"Data Science\",3:\"Kalyani\"}"
   ]
  },
  {
   "cell_type": "code",
   "execution_count": 12,
   "id": "d94d4624",
   "metadata": {},
   "outputs": [
    {
     "data": {
      "text/plain": [
       "dict"
      ]
     },
     "execution_count": 12,
     "metadata": {},
     "output_type": "execute_result"
    }
   ],
   "source": [
    "type(x)"
   ]
  },
  {
   "cell_type": "code",
   "execution_count": 16,
   "id": "c6c5f8b5",
   "metadata": {},
   "outputs": [
    {
     "data": {
      "text/plain": [
       "dict_items([(1, 'Abhisek'), (2, 'Data Science'), (3, 'Kalyani')])"
      ]
     },
     "execution_count": 16,
     "metadata": {},
     "output_type": "execute_result"
    }
   ],
   "source": [
    "x.items()"
   ]
  },
  {
   "cell_type": "code",
   "execution_count": 17,
   "id": "107ea384",
   "metadata": {},
   "outputs": [
    {
     "data": {
      "text/plain": [
       "dict_keys([1, 2, 3])"
      ]
     },
     "execution_count": 17,
     "metadata": {},
     "output_type": "execute_result"
    }
   ],
   "source": [
    "x.keys()"
   ]
  },
  {
   "cell_type": "code",
   "execution_count": 18,
   "id": "1557a223",
   "metadata": {},
   "outputs": [
    {
     "data": {
      "text/plain": [
       "dict_values(['Abhisek', 'Data Science', 'Kalyani'])"
      ]
     },
     "execution_count": 18,
     "metadata": {},
     "output_type": "execute_result"
    }
   ],
   "source": [
    "x.values()"
   ]
  },
  {
   "cell_type": "code",
   "execution_count": 21,
   "id": "fa240447",
   "metadata": {},
   "outputs": [
    {
     "data": {
      "text/plain": [
       "'Kalyani'"
      ]
     },
     "execution_count": 21,
     "metadata": {},
     "output_type": "execute_result"
    }
   ],
   "source": [
    "x[3]"
   ]
  },
  {
   "cell_type": "code",
   "execution_count": 22,
   "id": "bdf4f7b9",
   "metadata": {},
   "outputs": [],
   "source": [
    "y={1:\"Abhisek\",2:[22,3,4,5,6,3,2,12],3:[\"Items\",\"big\"]}"
   ]
  },
  {
   "cell_type": "code",
   "execution_count": 23,
   "id": "bb5d0001",
   "metadata": {},
   "outputs": [
    {
     "data": {
      "text/plain": [
       "dict_values(['Abhisek', [22, 3, 4, 5, 6, 3, 2, 12], ['Items', 'big']])"
      ]
     },
     "execution_count": 23,
     "metadata": {},
     "output_type": "execute_result"
    }
   ],
   "source": [
    "y.values()"
   ]
  },
  {
   "cell_type": "code",
   "execution_count": 24,
   "id": "c0e01bb2",
   "metadata": {},
   "outputs": [
    {
     "data": {
      "text/plain": [
       "dict_keys([1, 2, 3])"
      ]
     },
     "execution_count": 24,
     "metadata": {},
     "output_type": "execute_result"
    }
   ],
   "source": [
    "y.keys()"
   ]
  },
  {
   "cell_type": "code",
   "execution_count": 26,
   "id": "71defe8b",
   "metadata": {},
   "outputs": [
    {
     "data": {
      "text/plain": [
       "6"
      ]
     },
     "execution_count": 26,
     "metadata": {},
     "output_type": "execute_result"
    }
   ],
   "source": [
    "y[2][4]"
   ]
  },
  {
   "cell_type": "code",
   "execution_count": 27,
   "id": "29b87f5c",
   "metadata": {},
   "outputs": [
    {
     "data": {
      "text/plain": [
       "'big'"
      ]
     },
     "execution_count": 27,
     "metadata": {},
     "output_type": "execute_result"
    }
   ],
   "source": [
    "y[3][1]"
   ]
  },
  {
   "cell_type": "code",
   "execution_count": 28,
   "id": "e0ff65eb",
   "metadata": {},
   "outputs": [],
   "source": [
    "y[\"4\"]=23"
   ]
  },
  {
   "cell_type": "code",
   "execution_count": 29,
   "id": "78ac1fd9",
   "metadata": {},
   "outputs": [
    {
     "data": {
      "text/plain": [
       "{1: 'Abhisek', 2: [22, 3, 4, 5, 6, 3, 2, 12], 3: ['Items', 'big'], '4': 23}"
      ]
     },
     "execution_count": 29,
     "metadata": {},
     "output_type": "execute_result"
    }
   ],
   "source": [
    "y"
   ]
  },
  {
   "cell_type": "code",
   "execution_count": 31,
   "id": "96e7f4b4",
   "metadata": {},
   "outputs": [
    {
     "data": {
      "text/plain": [
       "23"
      ]
     },
     "execution_count": 31,
     "metadata": {},
     "output_type": "execute_result"
    }
   ],
   "source": [
    "y[\"4\"]"
   ]
  },
  {
   "cell_type": "code",
   "execution_count": 40,
   "id": "f804cbc4",
   "metadata": {},
   "outputs": [],
   "source": [
    "#nested dict\n",
    "z={1:{2:{3:\"Abhisek\"}} }"
   ]
  },
  {
   "cell_type": "code",
   "execution_count": 33,
   "id": "84cf7980",
   "metadata": {},
   "outputs": [
    {
     "data": {
      "text/plain": [
       "{1: {2: {3: 'Abhisek'}}}"
      ]
     },
     "execution_count": 33,
     "metadata": {},
     "output_type": "execute_result"
    }
   ],
   "source": [
    "z"
   ]
  },
  {
   "cell_type": "code",
   "execution_count": 35,
   "id": "1f0a818a",
   "metadata": {},
   "outputs": [
    {
     "data": {
      "text/plain": [
       "'Abhisek'"
      ]
     },
     "execution_count": 35,
     "metadata": {},
     "output_type": "execute_result"
    }
   ],
   "source": [
    "z[1][2][3]"
   ]
  },
  {
   "cell_type": "code",
   "execution_count": 42,
   "id": "e356ec9f",
   "metadata": {},
   "outputs": [
    {
     "data": {
      "text/plain": [
       "{0: 0, 1: 1, 2: 2, 3: 3, 4: 4, 5: 5, 6: 6, 7: 7, 8: 8, 9: 9}"
      ]
     },
     "execution_count": 42,
     "metadata": {},
     "output_type": "execute_result"
    }
   ],
   "source": [
    "# dict comprehension\n",
    "{x:x for x in range(10)}"
   ]
  },
  {
   "cell_type": "code",
   "execution_count": 43,
   "id": "8d378106",
   "metadata": {},
   "outputs": [
    {
     "data": {
      "text/plain": [
       "{1: 9}"
      ]
     },
     "execution_count": 43,
     "metadata": {},
     "output_type": "execute_result"
    }
   ],
   "source": [
    "{1:x for x in range(10)}"
   ]
  },
  {
   "cell_type": "code",
   "execution_count": 53,
   "id": "7e425f5a",
   "metadata": {},
   "outputs": [],
   "source": [
    "def sum_even_odd(lst):\n",
    "    even_sum=0\n",
    "    odd_sum=0\n",
    "    for x in lst:\n",
    "        if x%2==0:\n",
    "            even_sum=even_sum+x\n",
    "        else:\n",
    "            odd_sum=odd_sum+x\n",
    "    print(\"The even sum is {} and odd sum is {}\".format(even_sum,odd_sum))"
   ]
  },
  {
   "cell_type": "code",
   "execution_count": 54,
   "id": "18b9dd6e",
   "metadata": {},
   "outputs": [],
   "source": [
    "lst=[1,2,3,4,5,6,7,8,9,0]\n"
   ]
  },
  {
   "cell_type": "code",
   "execution_count": 55,
   "id": "7f7cf5eb",
   "metadata": {},
   "outputs": [
    {
     "name": "stdout",
     "output_type": "stream",
     "text": [
      "The even sum is 20 and odd sum is 25\n"
     ]
    }
   ],
   "source": [
    "sum_even_odd(lst)"
   ]
  },
  {
   "cell_type": "code",
   "execution_count": 56,
   "id": "76397de1",
   "metadata": {},
   "outputs": [],
   "source": [
    "lst1=[2,4,5,6,7,5,4,3,2,5,7,88,9,6,44,2,3]"
   ]
  },
  {
   "cell_type": "code",
   "execution_count": 57,
   "id": "10f02da2",
   "metadata": {},
   "outputs": [
    {
     "name": "stdout",
     "output_type": "stream",
     "text": [
      "The even sum is 158 and odd sum is 44\n"
     ]
    }
   ],
   "source": [
    "sum_even_odd(lst1)"
   ]
  },
  {
   "cell_type": "code",
   "execution_count": 1,
   "id": "e54b82c7",
   "metadata": {},
   "outputs": [],
   "source": [
    "def sum_of_two_list(lst1,lst2):\n",
    "    lst3=[]\n",
    "    for i in range(len(lst1)):\n",
    "        lst3.append(lst1[i]+lst2[i])\n",
    "    return lst3"
   ]
  },
  {
   "cell_type": "code",
   "execution_count": 2,
   "id": "7cc23719",
   "metadata": {},
   "outputs": [],
   "source": [
    "lst1=[2,3,4,5,6,7]\n",
    "lst2=[6,7,8,9,3,4]"
   ]
  },
  {
   "cell_type": "code",
   "execution_count": 3,
   "id": "ae057e49",
   "metadata": {},
   "outputs": [
    {
     "data": {
      "text/plain": [
       "[8, 10, 12, 14, 9, 11]"
      ]
     },
     "execution_count": 3,
     "metadata": {},
     "output_type": "execute_result"
    }
   ],
   "source": [
    "sum_of_two_list(lst1,lst2)"
   ]
  },
  {
   "cell_type": "code",
   "execution_count": 41,
   "id": "ba44eb28",
   "metadata": {},
   "outputs": [],
   "source": [
    "def prime(num):\n",
    "    for i in range(2,num):\n",
    "        if num%i==0:\n",
    "            print(\"Not Prime\")\n",
    "            break\n",
    "        else:\n",
    "            print(\"Prime\")\n",
    "            break"
   ]
  },
  {
   "cell_type": "code",
   "execution_count": 42,
   "id": "41a5f18f",
   "metadata": {},
   "outputs": [],
   "source": [
    "a=17"
   ]
  },
  {
   "cell_type": "code",
   "execution_count": 44,
   "id": "3b9667cc",
   "metadata": {},
   "outputs": [
    {
     "name": "stdout",
     "output_type": "stream",
     "text": [
      "Not Prime\n"
     ]
    }
   ],
   "source": [
    "prime(20)"
   ]
  }
 ],
 "metadata": {
  "kernelspec": {
   "display_name": "Python 3",
   "language": "python",
   "name": "python3"
  },
  "language_info": {
   "codemirror_mode": {
    "name": "ipython",
    "version": 3
   },
   "file_extension": ".py",
   "mimetype": "text/x-python",
   "name": "python",
   "nbconvert_exporter": "python",
   "pygments_lexer": "ipython3",
   "version": "3.8.8"
  }
 },
 "nbformat": 4,
 "nbformat_minor": 5
}
