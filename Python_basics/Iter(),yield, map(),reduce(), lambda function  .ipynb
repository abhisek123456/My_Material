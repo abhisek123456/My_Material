{
 "cells": [
  {
   "cell_type": "code",
   "execution_count": 1,
   "id": "f94c4ea8",
   "metadata": {},
   "outputs": [],
   "source": [
    "def sum_of_2lists(lst1,lst2):\n",
    "    lst3=[]\n",
    "    for i in range(len(lst1)):\n",
    "        lst3.append(lst1[i]+lst2[i])\n",
    "    return lst3"
   ]
  },
  {
   "cell_type": "code",
   "execution_count": 8,
   "id": "d37cb2d3",
   "metadata": {},
   "outputs": [],
   "source": [
    "lst1=[1,2,3,4,5]\n",
    "lst2=[6,7,8,9,0]"
   ]
  },
  {
   "cell_type": "code",
   "execution_count": 9,
   "id": "d6712173",
   "metadata": {},
   "outputs": [
    {
     "data": {
      "text/plain": [
       "[7, 9, 11, 13, 5]"
      ]
     },
     "execution_count": 9,
     "metadata": {},
     "output_type": "execute_result"
    }
   ],
   "source": [
    "sum_of_2lists(lst1,lst2)"
   ]
  },
  {
   "cell_type": "code",
   "execution_count": 6,
   "id": "aa7d5b05",
   "metadata": {},
   "outputs": [],
   "source": [
    "lst1[:0]=lst2# Without append funtion"
   ]
  },
  {
   "cell_type": "code",
   "execution_count": 7,
   "id": "260d037a",
   "metadata": {},
   "outputs": [
    {
     "data": {
      "text/plain": [
       "[6, 7, 8, 9, 0, 1, 2, 3, 4, 5]"
      ]
     },
     "execution_count": 7,
     "metadata": {},
     "output_type": "execute_result"
    }
   ],
   "source": [
    "lst1"
   ]
  },
  {
   "cell_type": "markdown",
   "id": "33b6c8e9",
   "metadata": {},
   "source": [
    "## Iterators and Generator "
   ]
  },
  {
   "cell_type": "code",
   "execution_count": 10,
   "id": "45e22a91",
   "metadata": {},
   "outputs": [
    {
     "name": "stdout",
     "output_type": "stream",
     "text": [
      "1\n",
      "2\n",
      "3\n",
      "4\n",
      "5\n"
     ]
    }
   ],
   "source": [
    "# checking iteraable or not \n",
    "# List\n",
    "for i in [1,2,3,4,5]:\n",
    "    print(i)"
   ]
  },
  {
   "cell_type": "code",
   "execution_count": 11,
   "id": "62538385",
   "metadata": {},
   "outputs": [
    {
     "name": "stdout",
     "output_type": "stream",
     "text": [
      "A\n",
      "b\n",
      "h\n",
      "i\n",
      "s\n",
      "e\n",
      "k\n"
     ]
    }
   ],
   "source": [
    "#String\n",
    "for i in \"Abhisek\":\n",
    "    print (i)"
   ]
  },
  {
   "cell_type": "code",
   "execution_count": 19,
   "id": "f2e13483",
   "metadata": {},
   "outputs": [
    {
     "data": {
      "text/plain": [
       "<list_iterator at 0x1b00c8c9430>"
      ]
     },
     "execution_count": 19,
     "metadata": {},
     "output_type": "execute_result"
    }
   ],
   "source": [
    "#iterator\n",
    "# Lazy Evalution  \n",
    "a=iter([1,2,3,\"Abhisek\",4,5,6])\n",
    "a"
   ]
  },
  {
   "cell_type": "code",
   "execution_count": 21,
   "id": "fc5736be",
   "metadata": {},
   "outputs": [
    {
     "data": {
      "text/plain": [
       "2"
      ]
     },
     "execution_count": 21,
     "metadata": {},
     "output_type": "execute_result"
    }
   ],
   "source": [
    "next(a)"
   ]
  },
  {
   "cell_type": "code",
   "execution_count": 22,
   "id": "b08637e4",
   "metadata": {},
   "outputs": [
    {
     "name": "stdout",
     "output_type": "stream",
     "text": [
      "3\n",
      "Abhisek\n",
      "4\n",
      "5\n",
      "6\n"
     ]
    }
   ],
   "source": [
    "for i in a:\n",
    "    print(i)"
   ]
  },
  {
   "cell_type": "code",
   "execution_count": 25,
   "id": "5d56856d",
   "metadata": {},
   "outputs": [],
   "source": [
    "## By normal method \n",
    "def getcubesnor(n):\n",
    "    lst4=[]\n",
    "    for i in range(n):\n",
    "        lst4.append(i**3)\n",
    "    return lst4"
   ]
  },
  {
   "cell_type": "code",
   "execution_count": 26,
   "id": "c1c15515",
   "metadata": {},
   "outputs": [
    {
     "data": {
      "text/plain": [
       "[0, 1, 8, 27, 64]"
      ]
     },
     "execution_count": 26,
     "metadata": {},
     "output_type": "execute_result"
    }
   ],
   "source": [
    "getcubesnor(5)"
   ]
  },
  {
   "cell_type": "code",
   "execution_count": 27,
   "id": "255ee0e9",
   "metadata": {},
   "outputs": [],
   "source": [
    "# Generator \n",
    "def getcubesgen(n):\n",
    "    for i in range(n):\n",
    "        yield i**3"
   ]
  },
  {
   "cell_type": "code",
   "execution_count": 28,
   "id": "181076b1",
   "metadata": {},
   "outputs": [
    {
     "data": {
      "text/plain": [
       "<generator object getcubesgen at 0x000001B00D0D4430>"
      ]
     },
     "execution_count": 28,
     "metadata": {},
     "output_type": "execute_result"
    }
   ],
   "source": [
    "output=getcubesgen(5)\n",
    "output"
   ]
  },
  {
   "cell_type": "code",
   "execution_count": 31,
   "id": "f3608d84",
   "metadata": {},
   "outputs": [
    {
     "name": "stdout",
     "output_type": "stream",
     "text": [
      "0\n",
      "1\n",
      "8\n",
      "27\n",
      "64\n"
     ]
    }
   ],
   "source": [
    "for x in output:\n",
    "    print(x)"
   ]
  },
  {
   "cell_type": "code",
   "execution_count": 38,
   "id": "a2be0120",
   "metadata": {},
   "outputs": [],
   "source": [
    "## Fibonacci\n",
    "def fibo(n):\n",
    "    lis5=[]\n",
    "    a=0\n",
    "    b=1\n",
    "    for i in range(n):\n",
    "        lis5.append(a)\n",
    "        a,b=b,a+b\n",
    "    return lis5"
   ]
  },
  {
   "cell_type": "code",
   "execution_count": 39,
   "id": "b72ced10",
   "metadata": {},
   "outputs": [
    {
     "data": {
      "text/plain": [
       "[0, 1, 1, 2, 3, 5, 8, 13, 21, 34]"
      ]
     },
     "execution_count": 39,
     "metadata": {},
     "output_type": "execute_result"
    }
   ],
   "source": [
    "fibo(10)"
   ]
  },
  {
   "cell_type": "code",
   "execution_count": 40,
   "id": "6c4f4880",
   "metadata": {},
   "outputs": [],
   "source": [
    "def fibo_gen(n):\n",
    "    a=0\n",
    "    b=1\n",
    "    for i in range(n):\n",
    "        yield a\n",
    "        a,b=b,a+b"
   ]
  },
  {
   "cell_type": "code",
   "execution_count": 42,
   "id": "762f9b3e",
   "metadata": {},
   "outputs": [],
   "source": [
    "d=fibo_gen(5)"
   ]
  },
  {
   "cell_type": "code",
   "execution_count": 43,
   "id": "8ffd84c6",
   "metadata": {},
   "outputs": [
    {
     "name": "stdout",
     "output_type": "stream",
     "text": [
      "0\n",
      "1\n",
      "1\n",
      "2\n",
      "3\n"
     ]
    }
   ],
   "source": [
    "for x in d:\n",
    "    print(x)"
   ]
  },
  {
   "cell_type": "code",
   "execution_count": 51,
   "id": "17d18c36",
   "metadata": {},
   "outputs": [],
   "source": [
    "# Map\n",
    "def Sq_of_number(n):\n",
    "    return n*n   "
   ]
  },
  {
   "cell_type": "code",
   "execution_count": 52,
   "id": "f328a232",
   "metadata": {},
   "outputs": [
    {
     "data": {
      "text/plain": [
       "16"
      ]
     },
     "execution_count": 52,
     "metadata": {},
     "output_type": "execute_result"
    }
   ],
   "source": [
    "Sq_of_number(4)"
   ]
  },
  {
   "cell_type": "code",
   "execution_count": 53,
   "id": "4d760909",
   "metadata": {},
   "outputs": [
    {
     "ename": "TypeError",
     "evalue": "can't multiply sequence by non-int of type 'list'",
     "output_type": "error",
     "traceback": [
      "\u001b[1;31m---------------------------------------------------------------------------\u001b[0m",
      "\u001b[1;31mTypeError\u001b[0m                                 Traceback (most recent call last)",
      "\u001b[1;32m<ipython-input-53-c518c23c826c>\u001b[0m in \u001b[0;36m<module>\u001b[1;34m\u001b[0m\n\u001b[1;32m----> 1\u001b[1;33m \u001b[0mSq_of_number\u001b[0m\u001b[1;33m(\u001b[0m\u001b[1;33m[\u001b[0m\u001b[1;36m1\u001b[0m\u001b[1;33m,\u001b[0m\u001b[1;36m2\u001b[0m\u001b[1;33m,\u001b[0m\u001b[1;36m3\u001b[0m\u001b[1;33m,\u001b[0m\u001b[1;36m4\u001b[0m\u001b[1;33m]\u001b[0m\u001b[1;33m)\u001b[0m\u001b[1;33m\u001b[0m\u001b[1;33m\u001b[0m\u001b[0m\n\u001b[0m",
      "\u001b[1;32m<ipython-input-51-9aa128a7120b>\u001b[0m in \u001b[0;36mSq_of_number\u001b[1;34m(n)\u001b[0m\n\u001b[0;32m      1\u001b[0m \u001b[1;31m# Map\u001b[0m\u001b[1;33m\u001b[0m\u001b[1;33m\u001b[0m\u001b[1;33m\u001b[0m\u001b[0m\n\u001b[0;32m      2\u001b[0m \u001b[1;32mdef\u001b[0m \u001b[0mSq_of_number\u001b[0m\u001b[1;33m(\u001b[0m\u001b[0mn\u001b[0m\u001b[1;33m)\u001b[0m\u001b[1;33m:\u001b[0m\u001b[1;33m\u001b[0m\u001b[1;33m\u001b[0m\u001b[0m\n\u001b[1;32m----> 3\u001b[1;33m     \u001b[1;32mreturn\u001b[0m \u001b[0mn\u001b[0m\u001b[1;33m*\u001b[0m\u001b[0mn\u001b[0m\u001b[1;33m\u001b[0m\u001b[1;33m\u001b[0m\u001b[0m\n\u001b[0m",
      "\u001b[1;31mTypeError\u001b[0m: can't multiply sequence by non-int of type 'list'"
     ]
    }
   ],
   "source": [
    "Sq_of_number([1,2,3,4])"
   ]
  },
  {
   "cell_type": "code",
   "execution_count": 86,
   "id": "cdf4a33f",
   "metadata": {},
   "outputs": [],
   "source": [
    "a=map(Sq_of_number,[1,2,3,4])"
   ]
  },
  {
   "cell_type": "code",
   "execution_count": 87,
   "id": "36a59ba3",
   "metadata": {},
   "outputs": [
    {
     "data": {
      "text/plain": [
       "[1, 4, 9, 16]"
      ]
     },
     "execution_count": 87,
     "metadata": {},
     "output_type": "execute_result"
    }
   ],
   "source": [
    "list(a)"
   ]
  },
  {
   "cell_type": "code",
   "execution_count": 88,
   "id": "6bc948b6",
   "metadata": {},
   "outputs": [],
   "source": [
    "f=map(lambda x:x*x,[1,2,3])"
   ]
  },
  {
   "cell_type": "code",
   "execution_count": 89,
   "id": "74eab491",
   "metadata": {},
   "outputs": [
    {
     "data": {
      "text/plain": [
       "[1, 4, 9]"
      ]
     },
     "execution_count": 89,
     "metadata": {},
     "output_type": "execute_result"
    }
   ],
   "source": [
    "list(f)"
   ]
  },
  {
   "cell_type": "code",
   "execution_count": 60,
   "id": "85a77420",
   "metadata": {},
   "outputs": [],
   "source": [
    "# Reduce \n",
    "from functools import reduce"
   ]
  },
  {
   "cell_type": "code",
   "execution_count": null,
   "id": "0fad6dfd",
   "metadata": {},
   "outputs": [],
   "source": [
    "reduce() "
   ]
  },
  {
   "cell_type": "code",
   "execution_count": 95,
   "id": "492ae54d",
   "metadata": {},
   "outputs": [],
   "source": [
    "max_number=lambda x,y: x if (x>y) else y"
   ]
  },
  {
   "cell_type": "code",
   "execution_count": 64,
   "id": "7f67f138",
   "metadata": {},
   "outputs": [
    {
     "data": {
      "text/plain": [
       "33"
      ]
     },
     "execution_count": 64,
     "metadata": {},
     "output_type": "execute_result"
    }
   ],
   "source": [
    "max_number(23,33)"
   ]
  },
  {
   "cell_type": "code",
   "execution_count": 71,
   "id": "a8cefd24",
   "metadata": {},
   "outputs": [],
   "source": [
    "lst=[1,2,3,45,3,2,1,2,3,43]"
   ]
  },
  {
   "cell_type": "code",
   "execution_count": 67,
   "id": "289c7a96",
   "metadata": {},
   "outputs": [
    {
     "data": {
      "text/plain": [
       "45"
      ]
     },
     "execution_count": 67,
     "metadata": {},
     "output_type": "execute_result"
    }
   ],
   "source": [
    "reduce(max_number,lst)"
   ]
  },
  {
   "cell_type": "code",
   "execution_count": 74,
   "id": "824ee1da",
   "metadata": {},
   "outputs": [],
   "source": [
    "min_value=lambda x,y: x if (x<y) else y"
   ]
  },
  {
   "cell_type": "code",
   "execution_count": 78,
   "id": "e2c4b860",
   "metadata": {},
   "outputs": [
    {
     "data": {
      "text/plain": [
       "1"
      ]
     },
     "execution_count": 78,
     "metadata": {},
     "output_type": "execute_result"
    }
   ],
   "source": [
    "reduce(min_value,lst)"
   ]
  },
  {
   "cell_type": "code",
   "execution_count": 90,
   "id": "2053844f",
   "metadata": {},
   "outputs": [],
   "source": [
    "sum2=lambda a,b: (a+b)"
   ]
  },
  {
   "cell_type": "code",
   "execution_count": 93,
   "id": "0fcdedd8",
   "metadata": {},
   "outputs": [],
   "source": [
    "w=map(sum2,[1],[2])"
   ]
  },
  {
   "cell_type": "code",
   "execution_count": 94,
   "id": "1f33497d",
   "metadata": {
    "scrolled": true
   },
   "outputs": [
    {
     "data": {
      "text/plain": [
       "[3]"
      ]
     },
     "execution_count": 94,
     "metadata": {},
     "output_type": "execute_result"
    }
   ],
   "source": [
    "list(w)"
   ]
  },
  {
   "cell_type": "code",
   "execution_count": 119,
   "id": "7bac8e16",
   "metadata": {},
   "outputs": [],
   "source": [
    "def max_of(a,b):\n",
    "    if a>b:\n",
    "        print(a)\n",
    "    else:\n",
    "        print(b)"
   ]
  },
  {
   "cell_type": "code",
   "execution_count": 100,
   "id": "e7f9ac9b",
   "metadata": {},
   "outputs": [
    {
     "name": "stdout",
     "output_type": "stream",
     "text": [
      "2\n"
     ]
    }
   ],
   "source": [
    "max_of(2,1)"
   ]
  },
  {
   "cell_type": "code",
   "execution_count": 104,
   "id": "82335a9c",
   "metadata": {},
   "outputs": [
    {
     "name": "stdout",
     "output_type": "stream",
     "text": [
      "3\n"
     ]
    }
   ],
   "source": [
    "max_of(2,3)"
   ]
  },
  {
   "cell_type": "code",
   "execution_count": 121,
   "id": "e62a5b4f",
   "metadata": {},
   "outputs": [
    {
     "data": {
      "text/plain": [
       "5"
      ]
     },
     "execution_count": 121,
     "metadata": {},
     "output_type": "execute_result"
    }
   ],
   "source": [
    "reduce(lambda x,y:x if (x>y) else y,[3,4,5,2,1,4,5])"
   ]
  },
  {
   "cell_type": "code",
   "execution_count": 124,
   "id": "48f459e6",
   "metadata": {},
   "outputs": [],
   "source": [
    "sum_of_2=lambda x,y : x+y"
   ]
  },
  {
   "cell_type": "code",
   "execution_count": 125,
   "id": "a738369e",
   "metadata": {},
   "outputs": [
    {
     "data": {
      "text/plain": [
       "5"
      ]
     },
     "execution_count": 125,
     "metadata": {},
     "output_type": "execute_result"
    }
   ],
   "source": [
    "sum_of_2(2,3)"
   ]
  },
  {
   "cell_type": "code",
   "execution_count": 126,
   "id": "e56f39d1",
   "metadata": {},
   "outputs": [
    {
     "data": {
      "text/plain": [
       "15"
      ]
     },
     "execution_count": 126,
     "metadata": {},
     "output_type": "execute_result"
    }
   ],
   "source": [
    "reduce(sum_of_2,[3,4,5,3])"
   ]
  },
  {
   "cell_type": "code",
   "execution_count": 131,
   "id": "1d797fae",
   "metadata": {},
   "outputs": [],
   "source": [
    "even=lambda x:x%2==0"
   ]
  },
  {
   "cell_type": "code",
   "execution_count": 133,
   "id": "6f122600",
   "metadata": {},
   "outputs": [
    {
     "data": {
      "text/plain": [
       "[False, True, True, False]"
      ]
     },
     "execution_count": 133,
     "metadata": {},
     "output_type": "execute_result"
    }
   ],
   "source": [
    "list(map(even,[1,2,34,5]))"
   ]
  },
  {
   "cell_type": "code",
   "execution_count": null,
   "id": "be3a65f4",
   "metadata": {},
   "outputs": [],
   "source": []
  }
 ],
 "metadata": {
  "kernelspec": {
   "display_name": "Python 3",
   "language": "python",
   "name": "python3"
  },
  "language_info": {
   "codemirror_mode": {
    "name": "ipython",
    "version": 3
   },
   "file_extension": ".py",
   "mimetype": "text/x-python",
   "name": "python",
   "nbconvert_exporter": "python",
   "pygments_lexer": "ipython3",
   "version": "3.8.8"
  }
 },
 "nbformat": 4,
 "nbformat_minor": 5
}
