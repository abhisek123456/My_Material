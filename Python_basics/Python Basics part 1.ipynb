{
 "cells": [
  {
   "cell_type": "markdown",
   "id": "787ba698",
   "metadata": {},
   "source": [
    "## Python Basics"
   ]
  },
  {
   "cell_type": "code",
   "execution_count": 1,
   "id": "c1b3cd58",
   "metadata": {},
   "outputs": [
    {
     "data": {
      "text/plain": [
       "3"
      ]
     },
     "execution_count": 1,
     "metadata": {},
     "output_type": "execute_result"
    }
   ],
   "source": [
    "1+2"
   ]
  },
  {
   "cell_type": "code",
   "execution_count": 3,
   "id": "d357123d",
   "metadata": {},
   "outputs": [
    {
     "data": {
      "text/plain": [
       "0"
      ]
     },
     "execution_count": 3,
     "metadata": {},
     "output_type": "execute_result"
    }
   ],
   "source": [
    "4%2 # Reminder "
   ]
  },
  {
   "cell_type": "code",
   "execution_count": 4,
   "id": "2eee622e",
   "metadata": {},
   "outputs": [
    {
     "data": {
      "text/plain": [
       "2.0"
      ]
     },
     "execution_count": 4,
     "metadata": {},
     "output_type": "execute_result"
    }
   ],
   "source": [
    "4/2"
   ]
  },
  {
   "cell_type": "code",
   "execution_count": 7,
   "id": "20d87d1d",
   "metadata": {},
   "outputs": [
    {
     "data": {
      "text/plain": [
       "2"
      ]
     },
     "execution_count": 7,
     "metadata": {},
     "output_type": "execute_result"
    }
   ],
   "source": [
    "5//2 # only whole number  "
   ]
  },
  {
   "cell_type": "code",
   "execution_count": 6,
   "id": "5bd0548e",
   "metadata": {},
   "outputs": [
    {
     "data": {
      "text/plain": [
       "2.5"
      ]
     },
     "execution_count": 6,
     "metadata": {},
     "output_type": "execute_result"
    }
   ],
   "source": [
    "5/2"
   ]
  },
  {
   "cell_type": "code",
   "execution_count": 8,
   "id": "07b4b4a9",
   "metadata": {},
   "outputs": [
    {
     "data": {
      "text/plain": [
       "6.5"
      ]
     },
     "execution_count": 8,
     "metadata": {},
     "output_type": "execute_result"
    }
   ],
   "source": [
    "5+2*3/4 # BODMAS "
   ]
  },
  {
   "cell_type": "code",
   "execution_count": 9,
   "id": "d9f7f443",
   "metadata": {},
   "outputs": [
    {
     "data": {
      "text/plain": [
       "24"
      ]
     },
     "execution_count": 9,
     "metadata": {},
     "output_type": "execute_result"
    }
   ],
   "source": [
    "(5+3)*3"
   ]
  },
  {
   "cell_type": "code",
   "execution_count": 10,
   "id": "9dae5886",
   "metadata": {},
   "outputs": [
    {
     "data": {
      "text/plain": [
       "float"
      ]
     },
     "execution_count": 10,
     "metadata": {},
     "output_type": "execute_result"
    }
   ],
   "source": [
    "type (4/2)"
   ]
  },
  {
   "cell_type": "code",
   "execution_count": 11,
   "id": "19c15d2e",
   "metadata": {},
   "outputs": [
    {
     "data": {
      "text/plain": [
       "int"
      ]
     },
     "execution_count": 11,
     "metadata": {},
     "output_type": "execute_result"
    }
   ],
   "source": [
    "type(2)"
   ]
  },
  {
   "cell_type": "code",
   "execution_count": 12,
   "id": "688726cb",
   "metadata": {},
   "outputs": [
    {
     "data": {
      "text/plain": [
       "str"
      ]
     },
     "execution_count": 12,
     "metadata": {},
     "output_type": "execute_result"
    }
   ],
   "source": [
    "type(\"Abhisek\")"
   ]
  },
  {
   "cell_type": "code",
   "execution_count": 13,
   "id": "ff2eacd9",
   "metadata": {},
   "outputs": [],
   "source": [
    "a=10\n",
    "b=12"
   ]
  },
  {
   "cell_type": "code",
   "execution_count": 15,
   "id": "fc0e647e",
   "metadata": {},
   "outputs": [
    {
     "data": {
      "text/plain": [
       "22"
      ]
     },
     "execution_count": 15,
     "metadata": {},
     "output_type": "execute_result"
    }
   ],
   "source": [
    "c=a+b\n",
    "c"
   ]
  },
  {
   "cell_type": "code",
   "execution_count": 16,
   "id": "287ec0ea",
   "metadata": {},
   "outputs": [
    {
     "data": {
      "text/plain": [
       "int"
      ]
     },
     "execution_count": 16,
     "metadata": {},
     "output_type": "execute_result"
    }
   ],
   "source": [
    "type(c)"
   ]
  },
  {
   "cell_type": "code",
   "execution_count": 18,
   "id": "e95a28f4",
   "metadata": {},
   "outputs": [
    {
     "data": {
      "text/plain": [
       "False"
      ]
     },
     "execution_count": 18,
     "metadata": {},
     "output_type": "execute_result"
    }
   ],
   "source": [
    "True and False"
   ]
  },
  {
   "cell_type": "code",
   "execution_count": 19,
   "id": "c8e7c6a3",
   "metadata": {},
   "outputs": [
    {
     "data": {
      "text/plain": [
       "True"
      ]
     },
     "execution_count": 19,
     "metadata": {},
     "output_type": "execute_result"
    }
   ],
   "source": [
    "True or False # Logical "
   ]
  },
  {
   "cell_type": "code",
   "execution_count": 20,
   "id": "21f368f1",
   "metadata": {},
   "outputs": [
    {
     "data": {
      "text/plain": [
       "True"
      ]
     },
     "execution_count": 20,
     "metadata": {},
     "output_type": "execute_result"
    }
   ],
   "source": [
    "True | False # Bitwise"
   ]
  },
  {
   "cell_type": "code",
   "execution_count": 22,
   "id": "c7deb7f7",
   "metadata": {},
   "outputs": [
    {
     "data": {
      "text/plain": [
       "str"
      ]
     },
     "execution_count": 22,
     "metadata": {},
     "output_type": "execute_result"
    }
   ],
   "source": [
    "## Strings\n",
    "type(\"Abjise\")"
   ]
  },
  {
   "cell_type": "code",
   "execution_count": 23,
   "id": "85c4c42e",
   "metadata": {},
   "outputs": [],
   "source": [
    "str1=\"Abhisek is bad\""
   ]
  },
  {
   "cell_type": "code",
   "execution_count": 24,
   "id": "2db0237c",
   "metadata": {},
   "outputs": [
    {
     "name": "stdout",
     "output_type": "stream",
     "text": [
      "Abhisek is bad\n"
     ]
    }
   ],
   "source": [
    "print (str1)"
   ]
  },
  {
   "cell_type": "code",
   "execution_count": 25,
   "id": "3c3a53a7",
   "metadata": {},
   "outputs": [],
   "source": [
    "str2=\"He is a bad boy\"\n",
    "str3=\"She is a good girl\""
   ]
  },
  {
   "cell_type": "code",
   "execution_count": 26,
   "id": "1c50883e",
   "metadata": {},
   "outputs": [
    {
     "name": "stdout",
     "output_type": "stream",
     "text": [
      "He is a bad boy\n",
      "She is a good girl\n"
     ]
    }
   ],
   "source": [
    "print(str2)\n",
    "print(str3)"
   ]
  },
  {
   "cell_type": "code",
   "execution_count": 27,
   "id": "bbfb30e0",
   "metadata": {},
   "outputs": [
    {
     "data": {
      "text/plain": [
       "'He is a bad boyShe is a good girl'"
      ]
     },
     "execution_count": 27,
     "metadata": {},
     "output_type": "execute_result"
    }
   ],
   "source": [
    "str2+str3"
   ]
  },
  {
   "cell_type": "code",
   "execution_count": 28,
   "id": "d54d8afc",
   "metadata": {},
   "outputs": [
    {
     "data": {
      "text/plain": [
       "'He is a bad boy She is a good girl'"
      ]
     },
     "execution_count": 28,
     "metadata": {},
     "output_type": "execute_result"
    }
   ],
   "source": [
    "str2+\" \"+str3"
   ]
  },
  {
   "cell_type": "code",
   "execution_count": 30,
   "id": "fc25d286",
   "metadata": {},
   "outputs": [
    {
     "name": "stdout",
     "output_type": "stream",
     "text": [
      "Enter your name ?Abhisek Datta \n",
      "Abhisek Datta \n"
     ]
    }
   ],
   "source": [
    "name=input(\"Enter your name ?\")\n",
    "print(name)"
   ]
  },
  {
   "cell_type": "code",
   "execution_count": 33,
   "id": "ac6b0252",
   "metadata": {},
   "outputs": [
    {
     "name": "stdout",
     "output_type": "stream",
     "text": [
      "Enter a number23.77\n",
      "Enter another number77.90\n",
      "101.67\n"
     ]
    }
   ],
   "source": [
    "# Add 2 numbers\n",
    "a=float(input(\"Enter a number\"))\n",
    "b=float(input(\"Enter another number\"))\n",
    "c= a+b\n",
    "print(c)"
   ]
  },
  {
   "cell_type": "code",
   "execution_count": 35,
   "id": "3e88f5db",
   "metadata": {},
   "outputs": [
    {
     "name": "stdout",
     "output_type": "stream",
     "text": [
      "Enter your first name Abhisk\n",
      "Enter your last name Datta\n",
      "My first name is Abhisk and my last name is Datta \n"
     ]
    }
   ],
   "source": [
    "## String Formatting\n",
    "first_name= input(\"Enter your first name \")\n",
    "last_name= input(\"Enter your last name \")\n",
    "print(\"My first name is {} and my last name is {} \".format(first_name,last_name))"
   ]
  },
  {
   "cell_type": "code",
   "execution_count": 36,
   "id": "8c7e25f6",
   "metadata": {},
   "outputs": [
    {
     "name": "stdout",
     "output_type": "stream",
     "text": [
      "Enter a number 23\n",
      "Enter a number again56\n",
      "The number is negative\n"
     ]
    }
   ],
   "source": [
    "### Conditional Statement \n",
    "## If and elif \n",
    "a=int(input(\"Enter a number \"))\n",
    "b=int(input(\"Enter a number again\"))\n",
    "c=a-b\n",
    "if c<0:\n",
    "    print(\"The number is negative\")\n",
    "else:\n",
    "    print(\"The number is positive\")"
   ]
  },
  {
   "cell_type": "markdown",
   "id": "b5e5c247",
   "metadata": {},
   "source": [
    "#### Data Structures \n",
    "1. list\n",
    "2. tuple\n",
    "3. string\n",
    "4. dict\n",
    "5. sets \n"
   ]
  },
  {
   "cell_type": "code",
   "execution_count": 37,
   "id": "d8ddf628",
   "metadata": {},
   "outputs": [],
   "source": [
    "lst=[1,2,3,\"Abhsek\",4]"
   ]
  },
  {
   "cell_type": "code",
   "execution_count": 38,
   "id": "20e9d134",
   "metadata": {},
   "outputs": [
    {
     "data": {
      "text/plain": [
       "[1, 2, 3, 'Abhsek', 4]"
      ]
     },
     "execution_count": 38,
     "metadata": {},
     "output_type": "execute_result"
    }
   ],
   "source": [
    "lst"
   ]
  },
  {
   "cell_type": "code",
   "execution_count": 39,
   "id": "b0ff6839",
   "metadata": {},
   "outputs": [
    {
     "data": {
      "text/plain": [
       "'Abhsek'"
      ]
     },
     "execution_count": 39,
     "metadata": {},
     "output_type": "execute_result"
    }
   ],
   "source": [
    "lst[3]"
   ]
  },
  {
   "cell_type": "code",
   "execution_count": 40,
   "id": "da971346",
   "metadata": {},
   "outputs": [
    {
     "data": {
      "text/plain": [
       "str"
      ]
     },
     "execution_count": 40,
     "metadata": {},
     "output_type": "execute_result"
    }
   ],
   "source": [
    "type(lst[3])"
   ]
  },
  {
   "cell_type": "code",
   "execution_count": 41,
   "id": "95f8d4ff",
   "metadata": {},
   "outputs": [],
   "source": [
    "lst.append(3)"
   ]
  },
  {
   "cell_type": "code",
   "execution_count": 42,
   "id": "1ce15b5c",
   "metadata": {},
   "outputs": [
    {
     "data": {
      "text/plain": [
       "[1, 2, 3, 'Abhsek', 4, 3]"
      ]
     },
     "execution_count": 42,
     "metadata": {},
     "output_type": "execute_result"
    }
   ],
   "source": [
    "lst"
   ]
  },
  {
   "cell_type": "code",
   "execution_count": 43,
   "id": "8bffbd80",
   "metadata": {},
   "outputs": [],
   "source": [
    "lst[2]=\"chutiya\""
   ]
  },
  {
   "cell_type": "code",
   "execution_count": 44,
   "id": "bf2e8c7d",
   "metadata": {},
   "outputs": [
    {
     "data": {
      "text/plain": [
       "[1, 2, 'chutiya', 'Abhsek', 4, 3]"
      ]
     },
     "execution_count": 44,
     "metadata": {},
     "output_type": "execute_result"
    }
   ],
   "source": [
    "lst"
   ]
  },
  {
   "cell_type": "code",
   "execution_count": 46,
   "id": "e8a25826",
   "metadata": {},
   "outputs": [
    {
     "data": {
      "text/plain": [
       "1"
      ]
     },
     "execution_count": 46,
     "metadata": {},
     "output_type": "execute_result"
    }
   ],
   "source": [
    "lst.count(\"Abhsek\")"
   ]
  },
  {
   "cell_type": "code",
   "execution_count": null,
   "id": "cb145d22",
   "metadata": {},
   "outputs": [],
   "source": [
    "# indexing\n",
    " "
   ]
  }
 ],
 "metadata": {
  "kernelspec": {
   "display_name": "Python 3",
   "language": "python",
   "name": "python3"
  },
  "language_info": {
   "codemirror_mode": {
    "name": "ipython",
    "version": 3
   },
   "file_extension": ".py",
   "mimetype": "text/x-python",
   "name": "python",
   "nbconvert_exporter": "python",
   "pygments_lexer": "ipython3",
   "version": "3.8.8"
  }
 },
 "nbformat": 4,
 "nbformat_minor": 5
}
